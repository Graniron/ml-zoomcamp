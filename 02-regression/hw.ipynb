{
 "cells": [
  {
   "cell_type": "code",
   "execution_count": 14,
   "id": "37b42705",
   "metadata": {},
   "outputs": [],
   "source": [
    "import numpy as np\n",
    "import pandas as pd"
   ]
  },
  {
   "cell_type": "code",
   "execution_count": 15,
   "id": "c0a98273",
   "metadata": {},
   "outputs": [],
   "source": [
    "df = pd.read_csv('car_fuel_efficiency.csv')"
   ]
  },
  {
   "cell_type": "code",
   "execution_count": 16,
   "id": "f8a3586e",
   "metadata": {},
   "outputs": [
    {
     "data": {
      "text/html": [
       "<div>\n",
       "<style scoped>\n",
       "    .dataframe tbody tr th:only-of-type {\n",
       "        vertical-align: middle;\n",
       "    }\n",
       "\n",
       "    .dataframe tbody tr th {\n",
       "        vertical-align: top;\n",
       "    }\n",
       "\n",
       "    .dataframe thead th {\n",
       "        text-align: right;\n",
       "    }\n",
       "</style>\n",
       "<table border=\"1\" class=\"dataframe\">\n",
       "  <thead>\n",
       "    <tr style=\"text-align: right;\">\n",
       "      <th></th>\n",
       "      <th>engine_displacement</th>\n",
       "      <th>horsepower</th>\n",
       "      <th>vehicle_weight</th>\n",
       "      <th>model_year</th>\n",
       "      <th>fuel_efficiency_mpg</th>\n",
       "    </tr>\n",
       "  </thead>\n",
       "  <tbody>\n",
       "    <tr>\n",
       "      <th>0</th>\n",
       "      <td>170</td>\n",
       "      <td>159.0</td>\n",
       "      <td>3413.433759</td>\n",
       "      <td>2003</td>\n",
       "      <td>13.231729</td>\n",
       "    </tr>\n",
       "    <tr>\n",
       "      <th>1</th>\n",
       "      <td>130</td>\n",
       "      <td>97.0</td>\n",
       "      <td>3149.664934</td>\n",
       "      <td>2007</td>\n",
       "      <td>13.688217</td>\n",
       "    </tr>\n",
       "    <tr>\n",
       "      <th>2</th>\n",
       "      <td>170</td>\n",
       "      <td>78.0</td>\n",
       "      <td>3079.038997</td>\n",
       "      <td>2018</td>\n",
       "      <td>14.246341</td>\n",
       "    </tr>\n",
       "    <tr>\n",
       "      <th>3</th>\n",
       "      <td>220</td>\n",
       "      <td>NaN</td>\n",
       "      <td>2542.392402</td>\n",
       "      <td>2009</td>\n",
       "      <td>16.912736</td>\n",
       "    </tr>\n",
       "    <tr>\n",
       "      <th>4</th>\n",
       "      <td>210</td>\n",
       "      <td>140.0</td>\n",
       "      <td>3460.870990</td>\n",
       "      <td>2009</td>\n",
       "      <td>12.488369</td>\n",
       "    </tr>\n",
       "  </tbody>\n",
       "</table>\n",
       "</div>"
      ],
      "text/plain": [
       "   engine_displacement  horsepower  vehicle_weight  model_year  \\\n",
       "0                  170       159.0     3413.433759        2003   \n",
       "1                  130        97.0     3149.664934        2007   \n",
       "2                  170        78.0     3079.038997        2018   \n",
       "3                  220         NaN     2542.392402        2009   \n",
       "4                  210       140.0     3460.870990        2009   \n",
       "\n",
       "   fuel_efficiency_mpg  \n",
       "0            13.231729  \n",
       "1            13.688217  \n",
       "2            14.246341  \n",
       "3            16.912736  \n",
       "4            12.488369  "
      ]
     },
     "execution_count": 16,
     "metadata": {},
     "output_type": "execute_result"
    }
   ],
   "source": [
    "columns = ['engine_displacement', 'horsepower', 'vehicle_weight', 'model_year', 'fuel_efficiency_mpg']\n",
    "df = df[columns]\n",
    "df.head()"
   ]
  },
  {
   "cell_type": "code",
   "execution_count": 17,
   "id": "c11b0cbe",
   "metadata": {},
   "outputs": [
    {
     "data": {
      "text/plain": [
       "engine_displacement      0\n",
       "horsepower             708\n",
       "vehicle_weight           0\n",
       "model_year               0\n",
       "fuel_efficiency_mpg      0\n",
       "dtype: int64"
      ]
     },
     "execution_count": 17,
     "metadata": {},
     "output_type": "execute_result"
    }
   ],
   "source": [
    "# 1. Missing values - horsepower\n",
    "df.isnull().sum()"
   ]
  },
  {
   "cell_type": "code",
   "execution_count": 18,
   "id": "648ce31a",
   "metadata": {},
   "outputs": [
    {
     "data": {
      "text/plain": [
       "np.float64(149.0)"
      ]
     },
     "execution_count": 18,
     "metadata": {},
     "output_type": "execute_result"
    }
   ],
   "source": [
    "# 2. Median horsepower - 149\n",
    "df.horsepower.median()"
   ]
  },
  {
   "cell_type": "code",
   "execution_count": 19,
   "id": "8eff68b3",
   "metadata": {},
   "outputs": [],
   "source": [
    "# Split dataset\n",
    "n = len(df)\n",
    "n_val = int(n * 0.2)\n",
    "n_test = int(n * 0.2)\n",
    "n_train = n - n_val - n_test\n",
    "\n",
    "idx = np.arange(n)\n",
    "np.random.seed(42)\n",
    "np.random.shuffle(idx)\n",
    "\n",
    "df_train = df.iloc[idx[:n_train]]\n",
    "df_val = df.iloc[idx[n_train:n_train + n_val]]\n",
    "df_test = df.iloc[idx[n_train + n_val:]]\n"
   ]
  },
  {
   "cell_type": "code",
   "execution_count": 20,
   "id": "5470dcfb",
   "metadata": {},
   "outputs": [],
   "source": [
    "y_train = df_train['fuel_efficiency_mpg']\n",
    "y_val = df_val['fuel_efficiency_mpg']\n",
    "y_test = df_test['fuel_efficiency_mpg']\n",
    "\n",
    "# Remove labels\n",
    "del df_train['fuel_efficiency_mpg']\n",
    "del df_val['fuel_efficiency_mpg']\n",
    "del df_test['fuel_efficiency_mpg']"
   ]
  },
  {
   "cell_type": "code",
   "execution_count": 21,
   "id": "eca4a866",
   "metadata": {},
   "outputs": [],
   "source": [
    "df_train = df_train.reset_index(drop=True)\n",
    "df_val = df_val.reset_index(drop=True)\n",
    "df_test = df_test.reset_index(drop=True)\n"
   ]
  },
  {
   "cell_type": "code",
   "execution_count": 22,
   "id": "a8fd3682",
   "metadata": {},
   "outputs": [],
   "source": [
    "def train_lr(X, y):\n",
    "  ones = np.ones(X.shape[0])\n",
    "  X = np.column_stack([ones, X])\n",
    "\n",
    "  XTX = X.T.dot(X)\n",
    "  XTX_inv = np.linalg.inv(XTX)\n",
    "  w_full = XTX_inv.dot(X.T).dot(y)\n",
    "\n",
    "  return w_full[0], w_full[1:]"
   ]
  },
  {
   "cell_type": "code",
   "execution_count": 23,
   "id": "7bcd7038",
   "metadata": {},
   "outputs": [],
   "source": [
    "def rmse(y, y_pred):\n",
    "  error = y - y_pred\n",
    "  se = error ** 2\n",
    "  return round(np.sqrt(se.mean()), 2)"
   ]
  },
  {
   "cell_type": "code",
   "execution_count": 24,
   "id": "99228c65",
   "metadata": {},
   "outputs": [
    {
     "data": {
      "text/plain": [
       "np.float64(0.52)"
      ]
     },
     "execution_count": 24,
     "metadata": {},
     "output_type": "execute_result"
    }
   ],
   "source": [
    "# Use training dataset with 0 for hp \n",
    "X_train = df_train.fillna(0).values\n",
    "w0, w = train_lr(X_train, y_train)\n",
    "y_pred = w0 + X_train.dot(w)\n",
    "\n",
    "w0, w, y_pred\n",
    "rmse(y_train, y_pred)"
   ]
  },
  {
   "cell_type": "code",
   "execution_count": 25,
   "id": "ec271df7",
   "metadata": {},
   "outputs": [
    {
     "data": {
      "text/plain": [
       "np.float64(0.46)"
      ]
     },
     "execution_count": 25,
     "metadata": {},
     "output_type": "execute_result"
    }
   ],
   "source": [
    "# Use training dataset with mean for hp\n",
    "mean_hp = df_train.horsepower.mean()\n",
    "X_train = df_train.fillna(mean_hp).values\n",
    "w0, w = train_lr(X_train, y_train)\n",
    "y_pred = w0 + X_train.dot(w)\n",
    "\n",
    "w0, w, y_pred\n",
    "rmse(y_train, y_pred)"
   ]
  },
  {
   "cell_type": "code",
   "execution_count": 26,
   "id": "ce8721d3",
   "metadata": {},
   "outputs": [
    {
     "data": {
      "text/plain": [
       "np.float64(0.46)"
      ]
     },
     "execution_count": 26,
     "metadata": {},
     "output_type": "execute_result"
    }
   ],
   "source": [
    "# Use validation dataset\n",
    "mean_hp = df_val.horsepower.mean()\n",
    "X_val = df_val.fillna(mean_hp).values\n",
    "w0, w = train_lr(X_val, y_val)\n",
    "y_pred = w0 + X_val.dot(w)\n",
    "\n",
    "w0, w, y_pred\n",
    "rmse(y_val, y_pred)"
   ]
  },
  {
   "cell_type": "code",
   "execution_count": 28,
   "id": "e968d22b",
   "metadata": {},
   "outputs": [],
   "source": [
    "# 4 linear regression with regularization\n",
    "def train_lr_r(X, y, r = 0.001):\n",
    "  ones = np.ones(X.shape[0])\n",
    "  X = np.column_stack([ones, X])\n",
    "\n",
    "  XTX = X.T.dot(X)\n",
    "  XTX = XTX + r * np.eye(XTX.shape[0])\n",
    "  XTX_inv = np.linalg.inv(XTX)\n",
    "  w_full = XTX_inv.dot(X.T).dot(y)\n",
    "\n",
    "  return w_full[0], w_full[1:]"
   ]
  },
  {
   "cell_type": "code",
   "execution_count": null,
   "id": "94d7a0e4",
   "metadata": {},
   "outputs": [
    {
     "name": "stdout",
     "output_type": "stream",
     "text": [
      "R 0 0.52\n",
      "R 0.01 0.52\n",
      "R 0.1 0.52\n",
      "R 1 0.53\n",
      "R 5 0.53\n",
      "R 10 0.53\n",
      "R 100 0.53\n"
     ]
    }
   ],
   "source": [
    "# Use training dataset with 0 for hp, and regularization\n",
    "X_train = df_train.fillna(0).values\n",
    "\n",
    "rs = [0, 0.01, 0.1, 1, 5, 10, 100]\n",
    "\n",
    "#4: 0, 0.01, 0.1 - best score\n",
    "for r in rs:\n",
    "  w0, w = train_lr_r(X_train, y_train, r)\n",
    "  y_pred = w0 + X_train.dot(w)\n",
    "\n",
    "  print('R', r, rmse(y_train, y_pred))\n",
    "  \n",
    "  "
   ]
  },
  {
   "cell_type": "code",
   "execution_count": null,
   "id": "c0f0fc87",
   "metadata": {},
   "outputs": [
    {
     "data": {
      "text/plain": [
       "np.float64(0.52)"
      ]
     },
     "execution_count": 33,
     "metadata": {},
     "output_type": "execute_result"
    }
   ],
   "source": [
    "# Use validation dataset with reg\n",
    "X_val = df_val.fillna(0).values\n",
    "w0, w = train_lr_r(X_val, y_val, 0)\n",
    "y_pred = w0 + X_val.dot(w)\n",
    "\n",
    "w0, w, y_pred\n",
    "rmse(y_val, y_pred)"
   ]
  },
  {
   "cell_type": "code",
   "execution_count": null,
   "id": "aa10edbf",
   "metadata": {},
   "outputs": [
    {
     "data": {
      "text/plain": [
       "np.float64(0.005)"
      ]
     },
     "execution_count": 44,
     "metadata": {},
     "output_type": "execute_result"
    }
   ],
   "source": [
    "# 5 different seeds: std 0.005\n",
    "seeds = [0, 1, 2, 3, 4, 5, 6, 7, 8, 9]\n",
    "\n",
    "res = []\n",
    "for s in seeds:\n",
    "  np.random.seed(s)\n",
    "  s_idx = np.random.permutation(idx)\n",
    "\n",
    "  df_train = df.iloc[s_idx[:n_train]]\n",
    "  df_val = df.iloc[s_idx[n_train:n_train + n_val]]\n",
    "  df_test = df.iloc[s_idx[n_train + n_val:]]\n",
    "\n",
    "  y_train = df_train['fuel_efficiency_mpg']\n",
    "  y_val = df_val['fuel_efficiency_mpg']\n",
    "  y_test = df_test['fuel_efficiency_mpg']\n",
    "\n",
    "  # Remove labels\n",
    "  del df_train['fuel_efficiency_mpg']\n",
    "  del df_val['fuel_efficiency_mpg']\n",
    "  del df_test['fuel_efficiency_mpg']\n",
    "\n",
    "  X_train = df_train.fillna(0).values\n",
    "  w0, w = train_lr(X_train, y_train)\n",
    "  y_pred = w0 + X_train.dot(w)\n",
    "\n",
    "  w0, w, y_pred\n",
    "  rmse_s = rmse(y_train, y_pred)\n",
    "  res.append(rmse_s)\n",
    "\n",
    "round(np.std(res), 3)"
   ]
  },
  {
   "cell_type": "code",
   "execution_count": null,
   "id": "942bb812",
   "metadata": {},
   "outputs": [
    {
     "data": {
      "text/plain": [
       "np.float64(0.52)"
      ]
     },
     "execution_count": 53,
     "metadata": {},
     "output_type": "execute_result"
    }
   ],
   "source": [
    "# 6: full rmse - 0.52\n",
    "np.random.seed(9)\n",
    "s_idx = np.random.permutation(idx)\n",
    "\n",
    "df_train = df.iloc[s_idx[:n_train]]\n",
    "df_val = df.iloc[s_idx[n_train:n_train + n_val]]\n",
    "df_test = df.iloc[s_idx[n_train + n_val:]]\n",
    "\n",
    "y_train = df_train['fuel_efficiency_mpg']\n",
    "y_val = df_val['fuel_efficiency_mpg']\n",
    "y_test = df_test['fuel_efficiency_mpg']\n",
    "\n",
    "# Remove labels\n",
    "del df_train['fuel_efficiency_mpg']\n",
    "del df_val['fuel_efficiency_mpg']\n",
    "del df_test['fuel_efficiency_mpg']\n",
    "\n",
    "X_full_train = pd.concat([df_train, df_val]).fillna(0).values\n",
    "y_full_train = np.concatenate([y_train, y_val])\n",
    "\n",
    "w0, w = train_lr_r(X_full_train, y_full_train, 0.001)\n",
    "y_full_pred = w0 + X_full_train.dot(w)\n",
    "\n",
    "# w0, w, y_pred\n",
    "rmse_full = rmse(y_full_train, y_full_pred)\n",
    "rmse_full"
   ]
  }
 ],
 "metadata": {
  "kernelspec": {
   "display_name": "Python 3",
   "language": "python",
   "name": "python3"
  },
  "language_info": {
   "codemirror_mode": {
    "name": "ipython",
    "version": 3
   },
   "file_extension": ".py",
   "mimetype": "text/x-python",
   "name": "python",
   "nbconvert_exporter": "python",
   "pygments_lexer": "ipython3",
   "version": "3.12.1"
  }
 },
 "nbformat": 4,
 "nbformat_minor": 5
}
